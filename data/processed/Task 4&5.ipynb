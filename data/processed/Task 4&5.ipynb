{
 "cells": [
  {
   "cell_type": "code",
   "execution_count": 65,
   "metadata": {},
   "outputs": [
    {
     "data": {
      "text/html": [
       "<div>\n",
       "<style scoped>\n",
       "    .dataframe tbody tr th:only-of-type {\n",
       "        vertical-align: middle;\n",
       "    }\n",
       "\n",
       "    .dataframe tbody tr th {\n",
       "        vertical-align: top;\n",
       "    }\n",
       "\n",
       "    .dataframe thead th {\n",
       "        text-align: right;\n",
       "    }\n",
       "</style>\n",
       "<table border=\"1\" class=\"dataframe\">\n",
       "  <thead>\n",
       "    <tr style=\"text-align: right;\">\n",
       "      <th></th>\n",
       "      <th>age</th>\n",
       "      <th>workclass</th>\n",
       "      <th>education</th>\n",
       "      <th>marital-status</th>\n",
       "      <th>relationship</th>\n",
       "      <th>race</th>\n",
       "      <th>sex</th>\n",
       "      <th>hours-per-week</th>\n",
       "      <th>native-country</th>\n",
       "      <th>income</th>\n",
       "    </tr>\n",
       "  </thead>\n",
       "  <tbody>\n",
       "    <tr>\n",
       "      <th>0</th>\n",
       "      <td>50</td>\n",
       "      <td>Self-emp-not-inc</td>\n",
       "      <td>1.0</td>\n",
       "      <td>Married-civ-spouse</td>\n",
       "      <td>Husband</td>\n",
       "      <td>White</td>\n",
       "      <td>Male</td>\n",
       "      <td>13</td>\n",
       "      <td>United-States</td>\n",
       "      <td>&lt;=50K</td>\n",
       "    </tr>\n",
       "    <tr>\n",
       "      <th>1</th>\n",
       "      <td>38</td>\n",
       "      <td>Private</td>\n",
       "      <td>0.0</td>\n",
       "      <td>Divorced</td>\n",
       "      <td>Not-in-family</td>\n",
       "      <td>White</td>\n",
       "      <td>Male</td>\n",
       "      <td>40</td>\n",
       "      <td>United-States</td>\n",
       "      <td>&lt;=50K</td>\n",
       "    </tr>\n",
       "    <tr>\n",
       "      <th>3</th>\n",
       "      <td>28</td>\n",
       "      <td>Private</td>\n",
       "      <td>1.0</td>\n",
       "      <td>Married-civ-spouse</td>\n",
       "      <td>Wife</td>\n",
       "      <td>Black</td>\n",
       "      <td>Female</td>\n",
       "      <td>40</td>\n",
       "      <td>Cuba</td>\n",
       "      <td>&lt;=50K</td>\n",
       "    </tr>\n",
       "    <tr>\n",
       "      <th>6</th>\n",
       "      <td>52</td>\n",
       "      <td>Self-emp-not-inc</td>\n",
       "      <td>0.0</td>\n",
       "      <td>Married-civ-spouse</td>\n",
       "      <td>Husband</td>\n",
       "      <td>White</td>\n",
       "      <td>Male</td>\n",
       "      <td>45</td>\n",
       "      <td>United-States</td>\n",
       "      <td>&gt;50K</td>\n",
       "    </tr>\n",
       "    <tr>\n",
       "      <th>8</th>\n",
       "      <td>42</td>\n",
       "      <td>Private</td>\n",
       "      <td>1.0</td>\n",
       "      <td>Married-civ-spouse</td>\n",
       "      <td>Husband</td>\n",
       "      <td>White</td>\n",
       "      <td>Male</td>\n",
       "      <td>40</td>\n",
       "      <td>United-States</td>\n",
       "      <td>&gt;50K</td>\n",
       "    </tr>\n",
       "    <tr>\n",
       "      <th>...</th>\n",
       "      <td>...</td>\n",
       "      <td>...</td>\n",
       "      <td>...</td>\n",
       "      <td>...</td>\n",
       "      <td>...</td>\n",
       "      <td>...</td>\n",
       "      <td>...</td>\n",
       "      <td>...</td>\n",
       "      <td>...</td>\n",
       "      <td>...</td>\n",
       "    </tr>\n",
       "    <tr>\n",
       "      <th>32546</th>\n",
       "      <td>43</td>\n",
       "      <td>Private</td>\n",
       "      <td>0.0</td>\n",
       "      <td>Married-civ-spouse</td>\n",
       "      <td>Husband</td>\n",
       "      <td>White</td>\n",
       "      <td>Male</td>\n",
       "      <td>40</td>\n",
       "      <td>Mexico</td>\n",
       "      <td>&lt;=50K</td>\n",
       "    </tr>\n",
       "    <tr>\n",
       "      <th>32556</th>\n",
       "      <td>40</td>\n",
       "      <td>Private</td>\n",
       "      <td>0.0</td>\n",
       "      <td>Married-civ-spouse</td>\n",
       "      <td>Husband</td>\n",
       "      <td>White</td>\n",
       "      <td>Male</td>\n",
       "      <td>40</td>\n",
       "      <td>United-States</td>\n",
       "      <td>&gt;50K</td>\n",
       "    </tr>\n",
       "    <tr>\n",
       "      <th>32557</th>\n",
       "      <td>58</td>\n",
       "      <td>Private</td>\n",
       "      <td>0.0</td>\n",
       "      <td>Widowed</td>\n",
       "      <td>Unmarried</td>\n",
       "      <td>White</td>\n",
       "      <td>Female</td>\n",
       "      <td>40</td>\n",
       "      <td>United-States</td>\n",
       "      <td>&lt;=50K</td>\n",
       "    </tr>\n",
       "    <tr>\n",
       "      <th>32558</th>\n",
       "      <td>22</td>\n",
       "      <td>Private</td>\n",
       "      <td>0.0</td>\n",
       "      <td>Never-married</td>\n",
       "      <td>Own-child</td>\n",
       "      <td>White</td>\n",
       "      <td>Male</td>\n",
       "      <td>20</td>\n",
       "      <td>United-States</td>\n",
       "      <td>&lt;=50K</td>\n",
       "    </tr>\n",
       "    <tr>\n",
       "      <th>32559</th>\n",
       "      <td>52</td>\n",
       "      <td>Self-emp-inc</td>\n",
       "      <td>0.0</td>\n",
       "      <td>Married-civ-spouse</td>\n",
       "      <td>Wife</td>\n",
       "      <td>White</td>\n",
       "      <td>Female</td>\n",
       "      <td>40</td>\n",
       "      <td>United-States</td>\n",
       "      <td>&gt;50K</td>\n",
       "    </tr>\n",
       "  </tbody>\n",
       "</table>\n",
       "<p>15855 rows × 10 columns</p>\n",
       "</div>"
      ],
      "text/plain": [
       "       age          workclass  education       marital-status    relationship  \\\n",
       "0       50   Self-emp-not-inc        1.0   Married-civ-spouse         Husband   \n",
       "1       38            Private        0.0             Divorced   Not-in-family   \n",
       "3       28            Private        1.0   Married-civ-spouse            Wife   \n",
       "6       52   Self-emp-not-inc        0.0   Married-civ-spouse         Husband   \n",
       "8       42            Private        1.0   Married-civ-spouse         Husband   \n",
       "...    ...                ...        ...                  ...             ...   \n",
       "32546   43            Private        0.0   Married-civ-spouse         Husband   \n",
       "32556   40            Private        0.0   Married-civ-spouse         Husband   \n",
       "32557   58            Private        0.0              Widowed       Unmarried   \n",
       "32558   22            Private        0.0        Never-married       Own-child   \n",
       "32559   52       Self-emp-inc        0.0   Married-civ-spouse            Wife   \n",
       "\n",
       "         race      sex  hours-per-week  native-country  income  \n",
       "0       White     Male              13   United-States   <=50K  \n",
       "1       White     Male              40   United-States   <=50K  \n",
       "3       Black   Female              40            Cuba   <=50K  \n",
       "6       White     Male              45   United-States    >50K  \n",
       "8       White     Male              40   United-States    >50K  \n",
       "...       ...      ...             ...             ...     ...  \n",
       "32546   White     Male              40          Mexico   <=50K  \n",
       "32556   White     Male              40   United-States    >50K  \n",
       "32557   White   Female              40   United-States   <=50K  \n",
       "32558   White     Male              20   United-States   <=50K  \n",
       "32559   White   Female              40   United-States    >50K  \n",
       "\n",
       "[15855 rows x 10 columns]"
      ]
     },
     "execution_count": 65,
     "metadata": {},
     "output_type": "execute_result"
    }
   ],
   "source": [
    "import pandas as pd\n",
    "import numpy as np\n",
    "import matplotlib.pyplot as plt\n",
    "import seaborn as sns\n",
    "\n",
    " # Method Chain 1 (Load data,set axis titles, find all question marks in the data and dropped it)\n",
    "\n",
    "income = (\n",
    "        pd.read_csv(\"C:/Users/ongka/data301/solo-project/data/raw/raw\")\n",
    "        .set_axis(['age','workclass','fnlwgt','education','education-num','marital-status','occupation','relationship','race','sex','capital-gain','capital-loss','hours-per-week','native-country','income'],axis=1,inplace=False)\n",
    "        .replace('?',np.nan)\n",
    "        .dropna()\n",
    "        .replace(\"?\",np.nan)\n",
    "        .dropna()\n",
    "    \n",
    ")\n",
    "\n",
    "# Method Chain 2 (Dropped columns, changed values of income to 0 (below 50k) and 1 (above 50k))\n",
    "\n",
    "income2 = (\n",
    "        income\n",
    "        .drop(['fnlwgt','education-num','occupation','capital-gain','capital-loss'],axis=1)\n",
    "        .replace(' <=50K','0')\n",
    "        .replace(' >50K','1')\n",
    ")\n",
    "\n",
    "# Method Chain 3 (Dropped columns, changed values of education to 0 (high school graduate) and 1 (bachelors degree), and removed all other education types.)\n",
    "\n",
    "income3 = (\n",
    "        income\n",
    "        .drop(['fnlwgt','education-num','occupation','capital-gain','capital-loss'],axis=1)\n",
    "        .replace(' Bachelors',1)\n",
    "        .replace(' HS-grad',0)\n",
    "        .replace([' 11th',' Some-college',' Prof-school',' Assoc-acdm',' Assoc-voc',' 9th',' 7th-8th',' 12th',' Masters',' 1st-4th',' 10th',' Doctorate',' 5th-6th',' Preschool'],np.nan)\n",
    "        .dropna()\n",
    ")\n",
    "income3\n"
   ]
  },
  {
   "cell_type": "code",
   "execution_count": 43,
   "metadata": {},
   "outputs": [
    {
     "data": {
      "image/png": "[encoded data removed]",
      "text/plain": [
       "<Figure size 432x288 with 1 Axes>"
      ]
     },
     "metadata": {
      "needs_background": "light"
     },
     "output_type": "display_data"
    }
   ],
   "source": [
    "types = sns.violinplot(x=income2[\"hours-per-week\"],y=income2[\"income\"],data=income2,scale=\"width\").set(title=\"Income Against Hours Per Week\")"
   ]
  },
  {
   "cell_type": "markdown",
   "metadata": {},
   "source": [
    "- Income Mapped Againsted Hours Per Week\n",
    "\n",
    "    - Based on the graph, we can see a slight correlation between a higher income and more hours worked.\n",
    "    - Below the 40 hours per week mark, there are more bumps along the way for the below 50k income group.\n",
    "    - The individuals with around 20 to 30 hour per week could be part timers.\n",
    "    - Above the 40 hours per week mark, there are more bumps along the way for the above 50k income group.\n",
    "    - Due to some individuals working longer than 40 hours, they could make more than 50k a year due to the shear difference in hours worked while keeping the hourly wage the same."
   ]
  },
  {
   "cell_type": "code",
   "execution_count": 44,
   "metadata": {},
   "outputs": [
    {
     "data": {
      "image/png": "[encoded data removed]",
      "text/plain": [
       "<Figure size 432x288 with 1 Axes>"
      ]
     },
     "metadata": {
      "needs_background": "light"
     },
     "output_type": "display_data"
    }
   ],
   "source": [
    "types = sns.violinplot(x=income2[\"age\"],y=income2[\"income\"],data=income2,scale=\"width\").set(title=\"Income Against Age\")"
   ]
  },
  {
   "cell_type": "markdown",
   "metadata": {},
   "source": [
    "- Income Mapped Againsted Age\n",
    "\n",
    "    - Based on the graph, we can see a correlation with higher income and age.\n",
    "    - As young adults join the work force, they primarily work minimum wage jobs due to their limited skill sets.\n",
    "    - As time goes on, they gradually become more higher skilled or enroll in college to become more specialised.\n",
    "    - With more specialisation, they can commend higher pay due to a more in demand skill set.\n",
    "    - As time goes on, they are able to get promoted or get better offers elsewhere.\n",
    "    - An interesting observation with the 50k income group lies in the drop off starting at around age 46.\n",
    "    - As they become older and less productive, their employer can hire a younger staff at a lower salary to do their job.\n",
    "    - This could explain the start of a drop in the 50k income group.\n",
    "    - However, this does not cause a rise in the below 50k income group.\n",
    "    - One possible explanation could be that some in the 50k income group at around the age of 46 are able to retire comfortable without participating in the workforce. "
   ]
  },
  {
   "cell_type": "code",
   "execution_count": 67,
   "metadata": {},
   "outputs": [
    {
     "data": {
      "image/png": "[encoded data removed]",
      "text/plain": [
       "<Figure size 432x288 with 1 Axes>"
      ]
     },
     "metadata": {
      "needs_background": "light"
     },
     "output_type": "display_data"
    }
   ],
   "source": [
    "types = sns.violinplot(x=income3[\"education\"],y=income3[\"income\"],data=income3,scale=\"width\").set(title=\"Income Against Education\")"
   ]
  },
  {
   "cell_type": "markdown",
   "metadata": {},
   "source": [
    "- Income Mapped Against Education\n",
    "\n",
    "    - Based on the graph, we can see a higher concentration of college graduates earning more than 50k income a year.\n",
    "    - Those with a bachelor's degree on average will earn more than 50k compared to those with only a high school diploma.\n",
    "    - Those with college degrees make up a greater size of the data,\n",
    "    - A smaller than average size of high school graduates will make over 50k income a year.\n",
    "    "
   ]
  },
  {
   "cell_type": "code",
   "execution_count": null,
   "metadata": {},
   "outputs": [],
   "source": []
  },
  {
   "cell_type": "code",
   "execution_count": null,
   "metadata": {},
   "outputs": [],
   "source": []
  }
 ],
 "metadata": {
  "kernelspec": {
   "display_name": "Python 3",
   "language": "python",
   "name": "python3"
  },
  "language_info": {
   "codemirror_mode": {
    "name": "ipython",
    "version": 3
   },
   "file_extension": ".py",
   "mimetype": "text/x-python",
   "name": "python",
   "nbconvert_exporter": "python",
   "pygments_lexer": "ipython3",
   "version": "3.8.3"
  }
 },
 "nbformat": 4,
 "nbformat_minor": 4
}
